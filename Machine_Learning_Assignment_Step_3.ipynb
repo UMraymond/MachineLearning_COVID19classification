{
  "nbformat": 4,
  "nbformat_minor": 0,
  "metadata": {
    "colab": {
      "name": "Machine Learning Assignment Step 3.ipynb",
      "provenance": [],
      "collapsed_sections": []
    },
    "kernelspec": {
      "name": "python3",
      "display_name": "Python 3"
    }
  },
  "cells": [
    {
      "cell_type": "code",
      "metadata": {
        "id": "KwKGAxI3WkfR"
      },
      "source": [
        "# Load necessary python packages\r\n",
        "import numpy as np\r\n",
        "import pandas as pd\r\n",
        "\r\n",
        "# Load train, test datasets\r\n",
        "train = pd.read_csv(\"covid_19_train.csv\")\r\n",
        "test = pd.read_csv(\"covid_19_test.csv\")\r\n",
        "sub = pd.read_csv(\"covid_19_submission.csv\")"
      ],
      "execution_count": 1,
      "outputs": []
    },
    {
      "cell_type": "code",
      "metadata": {
        "id": "ptrkHdTX6ZMP"
      },
      "source": [
        "# Extract labelled column from train dataset\r\n",
        "y = train.covid_19.values\r\n",
        "\r\n",
        "# Drops labelled column, to be ready for model training/ data cleaning\r\n",
        "train_test = train.drop(\"covid_19\", axis='columns')\r\n",
        "\r\n",
        "# combines training and testing dataset\r\n",
        "x = pd.concat([train_test, test])\r\n",
        "\r\n",
        "\r\n",
        "# Check for NA or NAN presence in each column\r\n",
        "x_check_na = x.isna().any()\r\n",
        "\r\n",
        "\r\n",
        "x_summary = x.describe()\r\n",
        "x_summary = x_summary.T\r\n",
        "\r\n",
        "# Select columns that consist of less than 10% of NA/ NAN\r\n",
        "x_cleared = x.loc[:, x.isnull().mean() < 0.9]\r\n",
        "\r\n",
        "# Fill in NA/ NAN fields with each column's median value\r\n",
        "x_cleared = x_cleared.fillna(x.median(0)).copy(deep=True)\r\n",
        "\r\n",
        "# Check that all columns do not have NA/ NAN values\r\n",
        "x_check_na = x_cleared.isna().any()\r\n",
        "\r\n",
        "# Get correlation matrix, for purpose of removing highly correlated rows\r\n",
        "x_cleared1 = x_cleared.corr()\r\n",
        "x_cleared1.reset_index(inplace=True)\r\n",
        "\r\n",
        "# Modify correlation matrix to tabular format\r\n",
        "x_cleared2 = pd.melt(x_cleared1, id_vars=['index'])\r\n",
        "# Remove same column correlations of 1.0\r\n",
        "x_cleared2 = x_cleared2[x_cleared2['index']!=x_cleared2['variable']]\r\n",
        "# Order correlation in descending value\r\n",
        "x_cleared2 = x_cleared2.sort_values(by=['value'], ascending=False)\r\n",
        "\r\n",
        "# Highlight column correlations above 0.85, to remove due to high correlation value\r\n",
        "x_cleared2 = x_cleared2[abs(x_cleared2['value'])>0.85]\r\n",
        "x_cleared2 = x_cleared2.iloc[::2, :]\r\n",
        "\r\n",
        "# Remove columns that are highly correlated\r\n",
        "x_cleared.drop(x_cleared2['index'], axis=1, inplace=True)\r\n",
        "x_cleared = x_cleared.drop('id', axis='columns')\r\n",
        "\r\n",
        "# Force remaining columns to numeric type\r\n",
        "x_cleared = x_cleared.apply(pd.to_numeric, errors = 'coerce') \r\n",
        "x_check_na = x_cleared.isna().any()\r\n",
        "\r\n",
        "# As train dataset was originally 4000 rows\r\n",
        "x_train1 = x_cleared.iloc[:4000, :]\r\n",
        "x_test1 = x_cleared.iloc[4000:, :]\r\n"
      ],
      "execution_count": 2,
      "outputs": []
    },
    {
      "cell_type": "code",
      "metadata": {
        "colab": {
          "base_uri": "https://localhost:8080/",
          "height": 507
        },
        "id": "yukf3qqdUC-H",
        "outputId": "101a406a-5555-4360-c9b8-e9efa4933cb8"
      },
      "source": [
        "x_train1"
      ],
      "execution_count": 17,
      "outputs": [
        {
          "output_type": "execute_result",
          "data": {
            "text/html": [
              "<div>\n",
              "<style scoped>\n",
              "    .dataframe tbody tr th:only-of-type {\n",
              "        vertical-align: middle;\n",
              "    }\n",
              "\n",
              "    .dataframe tbody tr th {\n",
              "        vertical-align: top;\n",
              "    }\n",
              "\n",
              "    .dataframe thead th {\n",
              "        text-align: right;\n",
              "    }\n",
              "</style>\n",
              "<table border=\"1\" class=\"dataframe\">\n",
              "  <thead>\n",
              "    <tr style=\"text-align: right;\">\n",
              "      <th></th>\n",
              "      <th>age_quantile</th>\n",
              "      <th>Patient addmited to regular ward</th>\n",
              "      <th>Patient addmited to semi-intensive unit</th>\n",
              "      <th>Patient addmited to intensive care unit</th>\n",
              "      <th>Hemoglobin</th>\n",
              "      <th>Platelets</th>\n",
              "      <th>Mean platelet volume</th>\n",
              "      <th>Lymphocytes</th>\n",
              "      <th>Mean corpuscular hemoglobin concentration (MCHC)</th>\n",
              "      <th>Leukocytes</th>\n",
              "      <th>Basophils</th>\n",
              "      <th>Mean corpuscular hemoglobin (MCH)</th>\n",
              "      <th>Eosinophils</th>\n",
              "      <th>Monocytes</th>\n",
              "      <th>Red blood cell distribution width (RDW)</th>\n",
              "      <th>Respiratory Syncytial Virus</th>\n",
              "      <th>Influenza A</th>\n",
              "      <th>Influenza B</th>\n",
              "      <th>Parainfluenza 1</th>\n",
              "      <th>CoronavirusNL63</th>\n",
              "      <th>Rhinovirus/Enterovirus</th>\n",
              "      <th>Coronavirus HKU1</th>\n",
              "      <th>Parainfluenza 3</th>\n",
              "      <th>Chlamydophila pneumoniae</th>\n",
              "      <th>Adenovirus</th>\n",
              "      <th>Parainfluenza 4</th>\n",
              "      <th>Coronavirus229E</th>\n",
              "      <th>CoronavirusOC43</th>\n",
              "      <th>Inf A H1N1 2009</th>\n",
              "      <th>Bordetella pertussis</th>\n",
              "      <th>Metapneumovirus</th>\n",
              "      <th>Parainfluenza 2</th>\n",
              "      <th>Influenza B, rapid test</th>\n",
              "      <th>Influenza A, rapid test</th>\n",
              "    </tr>\n",
              "  </thead>\n",
              "  <tbody>\n",
              "    <tr>\n",
              "      <th>0</th>\n",
              "      <td>15</td>\n",
              "      <td>0</td>\n",
              "      <td>0</td>\n",
              "      <td>0</td>\n",
              "      <td>0.040316</td>\n",
              "      <td>-0.121716</td>\n",
              "      <td>-0.101517</td>\n",
              "      <td>-0.014267</td>\n",
              "      <td>-0.054585</td>\n",
              "      <td>-0.212879</td>\n",
              "      <td>-0.223767</td>\n",
              "      <td>0.125903</td>\n",
              "      <td>-0.329835</td>\n",
              "      <td>-0.115191</td>\n",
              "      <td>-0.182790</td>\n",
              "      <td>0.0</td>\n",
              "      <td>0.0</td>\n",
              "      <td>0.0</td>\n",
              "      <td>0.0</td>\n",
              "      <td>0.0</td>\n",
              "      <td>0.0</td>\n",
              "      <td>0.0</td>\n",
              "      <td>0.0</td>\n",
              "      <td>0.0</td>\n",
              "      <td>0.0</td>\n",
              "      <td>0.0</td>\n",
              "      <td>0.0</td>\n",
              "      <td>0.0</td>\n",
              "      <td>0.0</td>\n",
              "      <td>0.0</td>\n",
              "      <td>0.0</td>\n",
              "      <td>0.0</td>\n",
              "      <td>0.0</td>\n",
              "      <td>0.0</td>\n",
              "    </tr>\n",
              "    <tr>\n",
              "      <th>1</th>\n",
              "      <td>0</td>\n",
              "      <td>0</td>\n",
              "      <td>0</td>\n",
              "      <td>0</td>\n",
              "      <td>0.040316</td>\n",
              "      <td>-0.121716</td>\n",
              "      <td>-0.101517</td>\n",
              "      <td>-0.014267</td>\n",
              "      <td>-0.054585</td>\n",
              "      <td>-0.212879</td>\n",
              "      <td>-0.223767</td>\n",
              "      <td>0.125903</td>\n",
              "      <td>-0.329835</td>\n",
              "      <td>-0.115191</td>\n",
              "      <td>-0.182790</td>\n",
              "      <td>0.0</td>\n",
              "      <td>0.0</td>\n",
              "      <td>0.0</td>\n",
              "      <td>0.0</td>\n",
              "      <td>0.0</td>\n",
              "      <td>0.0</td>\n",
              "      <td>0.0</td>\n",
              "      <td>0.0</td>\n",
              "      <td>0.0</td>\n",
              "      <td>0.0</td>\n",
              "      <td>0.0</td>\n",
              "      <td>0.0</td>\n",
              "      <td>0.0</td>\n",
              "      <td>0.0</td>\n",
              "      <td>0.0</td>\n",
              "      <td>0.0</td>\n",
              "      <td>0.0</td>\n",
              "      <td>0.0</td>\n",
              "      <td>0.0</td>\n",
              "    </tr>\n",
              "    <tr>\n",
              "      <th>2</th>\n",
              "      <td>5</td>\n",
              "      <td>0</td>\n",
              "      <td>0</td>\n",
              "      <td>0</td>\n",
              "      <td>2.045308</td>\n",
              "      <td>-0.768649</td>\n",
              "      <td>1.469188</td>\n",
              "      <td>-0.236022</td>\n",
              "      <td>0.244149</td>\n",
              "      <td>-0.211488</td>\n",
              "      <td>0.081693</td>\n",
              "      <td>-0.030911</td>\n",
              "      <td>-0.245556</td>\n",
              "      <td>2.248498</td>\n",
              "      <td>0.436405</td>\n",
              "      <td>0.0</td>\n",
              "      <td>0.0</td>\n",
              "      <td>0.0</td>\n",
              "      <td>0.0</td>\n",
              "      <td>0.0</td>\n",
              "      <td>0.0</td>\n",
              "      <td>0.0</td>\n",
              "      <td>0.0</td>\n",
              "      <td>0.0</td>\n",
              "      <td>0.0</td>\n",
              "      <td>0.0</td>\n",
              "      <td>0.0</td>\n",
              "      <td>0.0</td>\n",
              "      <td>0.0</td>\n",
              "      <td>0.0</td>\n",
              "      <td>0.0</td>\n",
              "      <td>0.0</td>\n",
              "      <td>0.0</td>\n",
              "      <td>0.0</td>\n",
              "    </tr>\n",
              "    <tr>\n",
              "      <th>3</th>\n",
              "      <td>16</td>\n",
              "      <td>0</td>\n",
              "      <td>0</td>\n",
              "      <td>0</td>\n",
              "      <td>0.416252</td>\n",
              "      <td>-0.630469</td>\n",
              "      <td>-0.999063</td>\n",
              "      <td>-0.943933</td>\n",
              "      <td>-0.452899</td>\n",
              "      <td>-0.495332</td>\n",
              "      <td>0.387152</td>\n",
              "      <td>0.491805</td>\n",
              "      <td>-0.498393</td>\n",
              "      <td>2.406077</td>\n",
              "      <td>-0.271247</td>\n",
              "      <td>0.0</td>\n",
              "      <td>0.0</td>\n",
              "      <td>1.0</td>\n",
              "      <td>0.0</td>\n",
              "      <td>0.0</td>\n",
              "      <td>0.0</td>\n",
              "      <td>0.0</td>\n",
              "      <td>0.0</td>\n",
              "      <td>0.0</td>\n",
              "      <td>0.0</td>\n",
              "      <td>0.0</td>\n",
              "      <td>0.0</td>\n",
              "      <td>0.0</td>\n",
              "      <td>0.0</td>\n",
              "      <td>0.0</td>\n",
              "      <td>0.0</td>\n",
              "      <td>0.0</td>\n",
              "      <td>0.0</td>\n",
              "      <td>0.0</td>\n",
              "    </tr>\n",
              "    <tr>\n",
              "      <th>4</th>\n",
              "      <td>6</td>\n",
              "      <td>0</td>\n",
              "      <td>0</td>\n",
              "      <td>0</td>\n",
              "      <td>0.040316</td>\n",
              "      <td>-0.121716</td>\n",
              "      <td>-0.101517</td>\n",
              "      <td>-0.014267</td>\n",
              "      <td>-0.054585</td>\n",
              "      <td>-0.212879</td>\n",
              "      <td>-0.223767</td>\n",
              "      <td>0.125903</td>\n",
              "      <td>-0.329835</td>\n",
              "      <td>-0.115191</td>\n",
              "      <td>-0.182790</td>\n",
              "      <td>0.0</td>\n",
              "      <td>0.0</td>\n",
              "      <td>0.0</td>\n",
              "      <td>0.0</td>\n",
              "      <td>0.0</td>\n",
              "      <td>0.0</td>\n",
              "      <td>0.0</td>\n",
              "      <td>0.0</td>\n",
              "      <td>0.0</td>\n",
              "      <td>0.0</td>\n",
              "      <td>0.0</td>\n",
              "      <td>0.0</td>\n",
              "      <td>0.0</td>\n",
              "      <td>0.0</td>\n",
              "      <td>0.0</td>\n",
              "      <td>0.0</td>\n",
              "      <td>0.0</td>\n",
              "      <td>0.0</td>\n",
              "      <td>0.0</td>\n",
              "    </tr>\n",
              "    <tr>\n",
              "      <th>...</th>\n",
              "      <td>...</td>\n",
              "      <td>...</td>\n",
              "      <td>...</td>\n",
              "      <td>...</td>\n",
              "      <td>...</td>\n",
              "      <td>...</td>\n",
              "      <td>...</td>\n",
              "      <td>...</td>\n",
              "      <td>...</td>\n",
              "      <td>...</td>\n",
              "      <td>...</td>\n",
              "      <td>...</td>\n",
              "      <td>...</td>\n",
              "      <td>...</td>\n",
              "      <td>...</td>\n",
              "      <td>...</td>\n",
              "      <td>...</td>\n",
              "      <td>...</td>\n",
              "      <td>...</td>\n",
              "      <td>...</td>\n",
              "      <td>...</td>\n",
              "      <td>...</td>\n",
              "      <td>...</td>\n",
              "      <td>...</td>\n",
              "      <td>...</td>\n",
              "      <td>...</td>\n",
              "      <td>...</td>\n",
              "      <td>...</td>\n",
              "      <td>...</td>\n",
              "      <td>...</td>\n",
              "      <td>...</td>\n",
              "      <td>...</td>\n",
              "      <td>...</td>\n",
              "      <td>...</td>\n",
              "    </tr>\n",
              "    <tr>\n",
              "      <th>3995</th>\n",
              "      <td>19</td>\n",
              "      <td>0</td>\n",
              "      <td>0</td>\n",
              "      <td>0</td>\n",
              "      <td>0.040316</td>\n",
              "      <td>-0.121716</td>\n",
              "      <td>-0.101517</td>\n",
              "      <td>-0.014267</td>\n",
              "      <td>-0.054585</td>\n",
              "      <td>-0.212879</td>\n",
              "      <td>-0.223767</td>\n",
              "      <td>0.125903</td>\n",
              "      <td>-0.329835</td>\n",
              "      <td>-0.115191</td>\n",
              "      <td>-0.182790</td>\n",
              "      <td>0.0</td>\n",
              "      <td>0.0</td>\n",
              "      <td>0.0</td>\n",
              "      <td>0.0</td>\n",
              "      <td>0.0</td>\n",
              "      <td>1.0</td>\n",
              "      <td>0.0</td>\n",
              "      <td>0.0</td>\n",
              "      <td>0.0</td>\n",
              "      <td>0.0</td>\n",
              "      <td>0.0</td>\n",
              "      <td>0.0</td>\n",
              "      <td>0.0</td>\n",
              "      <td>0.0</td>\n",
              "      <td>0.0</td>\n",
              "      <td>0.0</td>\n",
              "      <td>0.0</td>\n",
              "      <td>0.0</td>\n",
              "      <td>0.0</td>\n",
              "    </tr>\n",
              "    <tr>\n",
              "      <th>3996</th>\n",
              "      <td>3</td>\n",
              "      <td>0</td>\n",
              "      <td>0</td>\n",
              "      <td>0</td>\n",
              "      <td>0.040316</td>\n",
              "      <td>-0.121716</td>\n",
              "      <td>-0.101517</td>\n",
              "      <td>-0.014267</td>\n",
              "      <td>-0.054585</td>\n",
              "      <td>-0.212879</td>\n",
              "      <td>-0.223767</td>\n",
              "      <td>0.125903</td>\n",
              "      <td>-0.329835</td>\n",
              "      <td>-0.115191</td>\n",
              "      <td>-0.182790</td>\n",
              "      <td>0.0</td>\n",
              "      <td>0.0</td>\n",
              "      <td>0.0</td>\n",
              "      <td>0.0</td>\n",
              "      <td>0.0</td>\n",
              "      <td>0.0</td>\n",
              "      <td>0.0</td>\n",
              "      <td>0.0</td>\n",
              "      <td>0.0</td>\n",
              "      <td>0.0</td>\n",
              "      <td>0.0</td>\n",
              "      <td>0.0</td>\n",
              "      <td>0.0</td>\n",
              "      <td>0.0</td>\n",
              "      <td>0.0</td>\n",
              "      <td>0.0</td>\n",
              "      <td>0.0</td>\n",
              "      <td>0.0</td>\n",
              "      <td>0.0</td>\n",
              "    </tr>\n",
              "    <tr>\n",
              "      <th>3997</th>\n",
              "      <td>7</td>\n",
              "      <td>0</td>\n",
              "      <td>0</td>\n",
              "      <td>0</td>\n",
              "      <td>0.040316</td>\n",
              "      <td>-0.121716</td>\n",
              "      <td>-0.101517</td>\n",
              "      <td>-0.014267</td>\n",
              "      <td>-0.054585</td>\n",
              "      <td>-0.212879</td>\n",
              "      <td>-0.223767</td>\n",
              "      <td>0.125903</td>\n",
              "      <td>-0.329835</td>\n",
              "      <td>-0.115191</td>\n",
              "      <td>-0.182790</td>\n",
              "      <td>0.0</td>\n",
              "      <td>0.0</td>\n",
              "      <td>0.0</td>\n",
              "      <td>0.0</td>\n",
              "      <td>0.0</td>\n",
              "      <td>0.0</td>\n",
              "      <td>0.0</td>\n",
              "      <td>0.0</td>\n",
              "      <td>0.0</td>\n",
              "      <td>0.0</td>\n",
              "      <td>0.0</td>\n",
              "      <td>0.0</td>\n",
              "      <td>0.0</td>\n",
              "      <td>0.0</td>\n",
              "      <td>0.0</td>\n",
              "      <td>0.0</td>\n",
              "      <td>0.0</td>\n",
              "      <td>0.0</td>\n",
              "      <td>0.0</td>\n",
              "    </tr>\n",
              "    <tr>\n",
              "      <th>3998</th>\n",
              "      <td>14</td>\n",
              "      <td>0</td>\n",
              "      <td>0</td>\n",
              "      <td>0</td>\n",
              "      <td>0.040316</td>\n",
              "      <td>-0.121716</td>\n",
              "      <td>-0.101517</td>\n",
              "      <td>-0.014267</td>\n",
              "      <td>-0.054585</td>\n",
              "      <td>-0.212879</td>\n",
              "      <td>-0.223767</td>\n",
              "      <td>0.125903</td>\n",
              "      <td>-0.329835</td>\n",
              "      <td>-0.115191</td>\n",
              "      <td>-0.182790</td>\n",
              "      <td>0.0</td>\n",
              "      <td>0.0</td>\n",
              "      <td>0.0</td>\n",
              "      <td>0.0</td>\n",
              "      <td>0.0</td>\n",
              "      <td>0.0</td>\n",
              "      <td>0.0</td>\n",
              "      <td>0.0</td>\n",
              "      <td>0.0</td>\n",
              "      <td>0.0</td>\n",
              "      <td>0.0</td>\n",
              "      <td>0.0</td>\n",
              "      <td>0.0</td>\n",
              "      <td>0.0</td>\n",
              "      <td>0.0</td>\n",
              "      <td>0.0</td>\n",
              "      <td>0.0</td>\n",
              "      <td>0.0</td>\n",
              "      <td>0.0</td>\n",
              "    </tr>\n",
              "    <tr>\n",
              "      <th>3999</th>\n",
              "      <td>14</td>\n",
              "      <td>0</td>\n",
              "      <td>0</td>\n",
              "      <td>0</td>\n",
              "      <td>-0.210308</td>\n",
              "      <td>1.793960</td>\n",
              "      <td>-1.223449</td>\n",
              "      <td>-0.329842</td>\n",
              "      <td>-0.054585</td>\n",
              "      <td>2.306939</td>\n",
              "      <td>-1.140144</td>\n",
              "      <td>0.596348</td>\n",
              "      <td>-0.414114</td>\n",
              "      <td>-0.220244</td>\n",
              "      <td>-0.536617</td>\n",
              "      <td>0.0</td>\n",
              "      <td>0.0</td>\n",
              "      <td>0.0</td>\n",
              "      <td>0.0</td>\n",
              "      <td>0.0</td>\n",
              "      <td>0.0</td>\n",
              "      <td>0.0</td>\n",
              "      <td>0.0</td>\n",
              "      <td>0.0</td>\n",
              "      <td>0.0</td>\n",
              "      <td>0.0</td>\n",
              "      <td>0.0</td>\n",
              "      <td>0.0</td>\n",
              "      <td>0.0</td>\n",
              "      <td>0.0</td>\n",
              "      <td>0.0</td>\n",
              "      <td>0.0</td>\n",
              "      <td>0.0</td>\n",
              "      <td>0.0</td>\n",
              "    </tr>\n",
              "  </tbody>\n",
              "</table>\n",
              "<p>4000 rows × 34 columns</p>\n",
              "</div>"
            ],
            "text/plain": [
              "      age_quantile  ...  Influenza A, rapid test\n",
              "0               15  ...                      0.0\n",
              "1                0  ...                      0.0\n",
              "2                5  ...                      0.0\n",
              "3               16  ...                      0.0\n",
              "4                6  ...                      0.0\n",
              "...            ...  ...                      ...\n",
              "3995            19  ...                      0.0\n",
              "3996             3  ...                      0.0\n",
              "3997             7  ...                      0.0\n",
              "3998            14  ...                      0.0\n",
              "3999            14  ...                      0.0\n",
              "\n",
              "[4000 rows x 34 columns]"
            ]
          },
          "metadata": {
            "tags": []
          },
          "execution_count": 17
        }
      ]
    },
    {
      "cell_type": "code",
      "metadata": {
        "id": "UF3Mkh376ZNn",
        "colab": {
          "base_uri": "https://localhost:8080/"
        },
        "outputId": "a36e1d4c-33af-4ff3-83a6-3bafc7bbc801"
      },
      "source": [
        "from sklearn.linear_model import LogisticRegression\r\n",
        "from sklearn.metrics import classification_report, confusion_matrix\r\n",
        "model = LogisticRegression(solver='liblinear', random_state=0)\r\n",
        "model.fit(x_train1, y)\r\n",
        "confusion_matrix(y, model.predict(x_train1))"
      ],
      "execution_count": 3,
      "outputs": [
        {
          "output_type": "execute_result",
          "data": {
            "text/plain": [
              "array([[3589,    5],\n",
              "       [ 371,   35]])"
            ]
          },
          "metadata": {
            "tags": []
          },
          "execution_count": 3
        }
      ]
    },
    {
      "cell_type": "code",
      "metadata": {
        "id": "0HjCDRLL6ZRu",
        "colab": {
          "base_uri": "https://localhost:8080/"
        },
        "outputId": "c6fd7d68-3f0b-48a5-b9a7-70082f568342"
      },
      "source": [
        "print(classification_report(y, model.predict(x_train1)))"
      ],
      "execution_count": 4,
      "outputs": [
        {
          "output_type": "stream",
          "text": [
            "              precision    recall  f1-score   support\n",
            "\n",
            "           0       0.91      1.00      0.95      3594\n",
            "           1       0.88      0.09      0.16       406\n",
            "\n",
            "    accuracy                           0.91      4000\n",
            "   macro avg       0.89      0.54      0.55      4000\n",
            "weighted avg       0.90      0.91      0.87      4000\n",
            "\n"
          ],
          "name": "stdout"
        }
      ]
    },
    {
      "cell_type": "code",
      "metadata": {
        "id": "hY2vxJSL6ZSq",
        "colab": {
          "base_uri": "https://localhost:8080/",
          "height": 419
        },
        "outputId": "4b7701d6-ef17-40c4-85c0-e60e5835fee6"
      },
      "source": [
        "sub['covid_19'] = model.predict_proba(x_test1)\r\n",
        "sub"
      ],
      "execution_count": 5,
      "outputs": [
        {
          "output_type": "execute_result",
          "data": {
            "text/html": [
              "<div>\n",
              "<style scoped>\n",
              "    .dataframe tbody tr th:only-of-type {\n",
              "        vertical-align: middle;\n",
              "    }\n",
              "\n",
              "    .dataframe tbody tr th {\n",
              "        vertical-align: top;\n",
              "    }\n",
              "\n",
              "    .dataframe thead th {\n",
              "        text-align: right;\n",
              "    }\n",
              "</style>\n",
              "<table border=\"1\" class=\"dataframe\">\n",
              "  <thead>\n",
              "    <tr style=\"text-align: right;\">\n",
              "      <th></th>\n",
              "      <th>id</th>\n",
              "      <th>covid_19</th>\n",
              "    </tr>\n",
              "  </thead>\n",
              "  <tbody>\n",
              "    <tr>\n",
              "      <th>0</th>\n",
              "      <td>4b8e26ec9ac6a73</td>\n",
              "      <td>0.901119</td>\n",
              "    </tr>\n",
              "    <tr>\n",
              "      <th>1</th>\n",
              "      <td>72ca7ed61c2a196</td>\n",
              "      <td>0.898198</td>\n",
              "    </tr>\n",
              "    <tr>\n",
              "      <th>2</th>\n",
              "      <td>400aecdd7f1a825</td>\n",
              "      <td>0.885736</td>\n",
              "    </tr>\n",
              "    <tr>\n",
              "      <th>3</th>\n",
              "      <td>b1ae71a4fe1788a</td>\n",
              "      <td>0.903966</td>\n",
              "    </tr>\n",
              "    <tr>\n",
              "      <th>4</th>\n",
              "      <td>654c1ae408ea3ac</td>\n",
              "      <td>0.898198</td>\n",
              "    </tr>\n",
              "    <tr>\n",
              "      <th>...</th>\n",
              "      <td>...</td>\n",
              "      <td>...</td>\n",
              "    </tr>\n",
              "    <tr>\n",
              "      <th>1639</th>\n",
              "      <td>5ba48fd9d5dd05e</td>\n",
              "      <td>0.864565</td>\n",
              "    </tr>\n",
              "    <tr>\n",
              "      <th>1640</th>\n",
              "      <td>731a1b637d73fac</td>\n",
              "      <td>0.912070</td>\n",
              "    </tr>\n",
              "    <tr>\n",
              "      <th>1641</th>\n",
              "      <td>30fe0388aafc474</td>\n",
              "      <td>0.898198</td>\n",
              "    </tr>\n",
              "    <tr>\n",
              "      <th>1642</th>\n",
              "      <td>5c1421eb95ab55c</td>\n",
              "      <td>0.951444</td>\n",
              "    </tr>\n",
              "    <tr>\n",
              "      <th>1643</th>\n",
              "      <td>ff34f2c79fc6cf0</td>\n",
              "      <td>0.559804</td>\n",
              "    </tr>\n",
              "  </tbody>\n",
              "</table>\n",
              "<p>1644 rows × 2 columns</p>\n",
              "</div>"
            ],
            "text/plain": [
              "                   id  covid_19\n",
              "0     4b8e26ec9ac6a73  0.901119\n",
              "1     72ca7ed61c2a196  0.898198\n",
              "2     400aecdd7f1a825  0.885736\n",
              "3     b1ae71a4fe1788a  0.903966\n",
              "4     654c1ae408ea3ac  0.898198\n",
              "...               ...       ...\n",
              "1639  5ba48fd9d5dd05e  0.864565\n",
              "1640  731a1b637d73fac  0.912070\n",
              "1641  30fe0388aafc474  0.898198\n",
              "1642  5c1421eb95ab55c  0.951444\n",
              "1643  ff34f2c79fc6cf0  0.559804\n",
              "\n",
              "[1644 rows x 2 columns]"
            ]
          },
          "metadata": {
            "tags": []
          },
          "execution_count": 5
        }
      ]
    },
    {
      "cell_type": "code",
      "metadata": {
        "id": "7hlxvXY46ZXx"
      },
      "source": [
        "sub.to_csv(\"logistic_run.csv\", index=False)"
      ],
      "execution_count": 6,
      "outputs": []
    },
    {
      "cell_type": "code",
      "metadata": {
        "colab": {
          "base_uri": "https://localhost:8080/"
        },
        "id": "ueh4YnNRfrvc",
        "outputId": "9e10eed6-42b8-4e72-ad54-c2922100b490"
      },
      "source": [
        "# Improvement to Logistic Regression\r\n",
        "model = LogisticRegression(solver='liblinear', C=10.0, random_state=0)\r\n",
        "model.fit(x_train1, y)\r\n",
        "print(classification_report(y, model.predict(x_train1)))\r\n",
        "sub['covid_19'] = model.predict_proba(x_test1)\r\n",
        "sub.to_csv(\"logistic_run2.csv\", index=False)"
      ],
      "execution_count": 7,
      "outputs": [
        {
          "output_type": "stream",
          "text": [
            "              precision    recall  f1-score   support\n",
            "\n",
            "           0       0.91      1.00      0.95      3594\n",
            "           1       0.85      0.10      0.18       406\n",
            "\n",
            "    accuracy                           0.91      4000\n",
            "   macro avg       0.88      0.55      0.56      4000\n",
            "weighted avg       0.90      0.91      0.87      4000\n",
            "\n"
          ],
          "name": "stdout"
        }
      ]
    },
    {
      "cell_type": "code",
      "metadata": {
        "colab": {
          "base_uri": "https://localhost:8080/"
        },
        "id": "3xiHQ6itfr2U",
        "outputId": "b1d9fdca-9cd2-47eb-c625-1b00786ce749"
      },
      "source": [
        "# Trying Naive Bayes \r\n",
        "from sklearn.naive_bayes import BernoulliNB\r\n",
        "model = BernoulliNB()\r\n",
        "model.fit(x_train1, y)\r\n",
        "print(classification_report(y, model.predict(x_train1)))\r\n",
        "sub['covid_19'] = model.predict_proba(x_test1)\r\n",
        "sub.to_csv(\"naivebayes1.csv\", index=False)"
      ],
      "execution_count": 8,
      "outputs": [
        {
          "output_type": "stream",
          "text": [
            "              precision    recall  f1-score   support\n",
            "\n",
            "           0       0.91      0.99      0.95      3594\n",
            "           1       0.58      0.09      0.16       406\n",
            "\n",
            "    accuracy                           0.90      4000\n",
            "   macro avg       0.75      0.54      0.55      4000\n",
            "weighted avg       0.87      0.90      0.87      4000\n",
            "\n"
          ],
          "name": "stdout"
        }
      ]
    },
    {
      "cell_type": "code",
      "metadata": {
        "colab": {
          "base_uri": "https://localhost:8080/"
        },
        "id": "PNzw9_rlhzM0",
        "outputId": "bd4632a4-d514-4b2b-9545-4c66d4885ce9"
      },
      "source": [
        "# Trying Decision Tree\r\n",
        "from sklearn import tree\r\n",
        "clf = tree.DecisionTreeClassifier()\r\n",
        "clf = clf.fit(x_train1, y)\r\n",
        "print(classification_report(y, clf.predict(x_train1)))\r\n",
        "sub['covid_19'] = clf.predict_proba(x_test1)\r\n",
        "sub.to_csv(\"decisiontree1.csv\", index=False)"
      ],
      "execution_count": 9,
      "outputs": [
        {
          "output_type": "stream",
          "text": [
            "              precision    recall  f1-score   support\n",
            "\n",
            "           0       0.91      1.00      0.96      3594\n",
            "           1       1.00      0.17      0.30       406\n",
            "\n",
            "    accuracy                           0.92      4000\n",
            "   macro avg       0.96      0.59      0.63      4000\n",
            "weighted avg       0.92      0.92      0.89      4000\n",
            "\n"
          ],
          "name": "stdout"
        }
      ]
    },
    {
      "cell_type": "code",
      "metadata": {
        "colab": {
          "base_uri": "https://localhost:8080/"
        },
        "id": "Y0VZoFu9j0xI",
        "outputId": "98ca79ed-09a7-403f-ccd0-fe8a565b34f0"
      },
      "source": [
        "# Trying Deep Learning\r\n",
        "from sklearn.neural_network import MLPClassifier\r\n",
        "clf = MLPClassifier(solver='adam', alpha=1e-5, activation = 'relu', learning_rate ='adaptive', hidden_layer_sizes=(100, 2), random_state=1, max_iter = 200)\r\n",
        "clf = clf.fit(x_train1, y)\r\n",
        "print(classification_report(y, clf.predict(x_train1)))\r\n",
        "sub['covid_19'] = clf.predict_proba(x_test1)\r\n",
        "sub.to_csv(\"deeplearning1.csv\", index=False)"
      ],
      "execution_count": 10,
      "outputs": [
        {
          "output_type": "stream",
          "text": [
            "              precision    recall  f1-score   support\n",
            "\n",
            "           0       0.91      1.00      0.95      3594\n",
            "           1       0.94      0.14      0.25       406\n",
            "\n",
            "    accuracy                           0.91      4000\n",
            "   macro avg       0.92      0.57      0.60      4000\n",
            "weighted avg       0.91      0.91      0.88      4000\n",
            "\n"
          ],
          "name": "stdout"
        }
      ]
    },
    {
      "cell_type": "code",
      "metadata": {
        "colab": {
          "base_uri": "https://localhost:8080/"
        },
        "id": "yWsDV7julhdl",
        "outputId": "7d6f14e1-66ab-48e7-8b3b-159f0218a898"
      },
      "source": [
        "# Trying Support Vector Machines\r\n",
        "from sklearn import svm\r\n",
        "clf = svm.SVC(probability = True)\r\n",
        "clf = clf.fit(x_train1, y)\r\n",
        "print(classification_report(y, clf.predict(x_train1)))\r\n",
        "sub['covid_19'] = clf.predict_proba(x_test1)\r\n",
        "sub.to_csv(\"svm1.csv\", index=False)"
      ],
      "execution_count": 11,
      "outputs": [
        {
          "output_type": "stream",
          "text": [
            "              precision    recall  f1-score   support\n",
            "\n",
            "           0       0.90      1.00      0.95      3594\n",
            "           1       0.00      0.00      0.00       406\n",
            "\n",
            "    accuracy                           0.90      4000\n",
            "   macro avg       0.45      0.50      0.47      4000\n",
            "weighted avg       0.81      0.90      0.85      4000\n",
            "\n"
          ],
          "name": "stdout"
        },
        {
          "output_type": "stream",
          "text": [
            "/usr/local/lib/python3.6/dist-packages/sklearn/metrics/_classification.py:1272: UndefinedMetricWarning: Precision and F-score are ill-defined and being set to 0.0 in labels with no predicted samples. Use `zero_division` parameter to control this behavior.\n",
            "  _warn_prf(average, modifier, msg_start, len(result))\n"
          ],
          "name": "stderr"
        }
      ]
    },
    {
      "cell_type": "code",
      "metadata": {
        "colab": {
          "base_uri": "https://localhost:8080/"
        },
        "id": "ZWPWPJhcmoml",
        "outputId": "42e34e7e-f90f-45ac-8b02-b7e7ba91860b"
      },
      "source": [
        "# Trying xgb\r\n",
        "import xgboost as xgb\r\n",
        "xg_class = xgb.XGBClassifier(\r\n",
        "    learning_rate=0.02, \r\n",
        "    max_delta_step=0, \r\n",
        "    max_depth=10,\r\n",
        "    min_child_weight=0.2, \r\n",
        "    missing=None, \r\n",
        "    n_estimators=300, \r\n",
        "    nthread=4,\r\n",
        "    objective='binary:logistic', \r\n",
        "    reg_alpha=0.01, \r\n",
        "    reg_lambda = 0.01,\r\n",
        "    scale_pos_weight=1, \r\n",
        "    seed=0, \r\n",
        "    silent=False, \r\n",
        "    subsample=0.9)\r\n",
        "\r\n",
        "xg_fit=xg_class.fit(x_train1, y)\r\n",
        "print(classification_report(y, xg_class.predict(x_train1)))\r\n",
        "\r\n",
        "\r\n",
        "sub['covid_19'] = xg_class.predict_proba(x_test1)[:,1]\r\n",
        "sub.to_csv(\"xgb1.csv\", index=False)"
      ],
      "execution_count": 12,
      "outputs": [
        {
          "output_type": "stream",
          "text": [
            "              precision    recall  f1-score   support\n",
            "\n",
            "           0       0.91      1.00      0.96      3594\n",
            "           1       1.00      0.17      0.29       406\n",
            "\n",
            "    accuracy                           0.92      4000\n",
            "   macro avg       0.96      0.59      0.62      4000\n",
            "weighted avg       0.92      0.92      0.89      4000\n",
            "\n"
          ],
          "name": "stdout"
        }
      ]
    },
    {
      "cell_type": "code",
      "metadata": {
        "colab": {
          "base_uri": "https://localhost:8080/"
        },
        "id": "5C1y8zFLpI8U",
        "outputId": "8029d490-58a4-4c2e-c7f7-cee386245bf7"
      },
      "source": [
        "# Trying Support Vector Machines 2\r\n",
        "from sklearn import svm\r\n",
        "clf = svm.SVC(probability = True)\r\n",
        "clf = clf.fit(x_train1, y)\r\n",
        "print(classification_report(y, clf.predict(x_train1)))\r\n",
        "sub['covid_19'] = 1 - clf.predict_proba(x_test1)\r\n",
        "sub.to_csv(\"svm2.csv\", index=False)"
      ],
      "execution_count": 13,
      "outputs": [
        {
          "output_type": "stream",
          "text": [
            "              precision    recall  f1-score   support\n",
            "\n",
            "           0       0.90      1.00      0.95      3594\n",
            "           1       0.00      0.00      0.00       406\n",
            "\n",
            "    accuracy                           0.90      4000\n",
            "   macro avg       0.45      0.50      0.47      4000\n",
            "weighted avg       0.81      0.90      0.85      4000\n",
            "\n"
          ],
          "name": "stdout"
        },
        {
          "output_type": "stream",
          "text": [
            "/usr/local/lib/python3.6/dist-packages/sklearn/metrics/_classification.py:1272: UndefinedMetricWarning: Precision and F-score are ill-defined and being set to 0.0 in labels with no predicted samples. Use `zero_division` parameter to control this behavior.\n",
            "  _warn_prf(average, modifier, msg_start, len(result))\n"
          ],
          "name": "stderr"
        }
      ]
    },
    {
      "cell_type": "code",
      "metadata": {
        "colab": {
          "base_uri": "https://localhost:8080/"
        },
        "id": "TEG34-R9RxQp",
        "outputId": "ba8329ad-8ab1-4968-f559-68cadba4a726"
      },
      "source": [
        "# Trying Deep Learning 2\r\n",
        "from sklearn.neural_network import MLPClassifier\r\n",
        "clf = MLPClassifier(solver='adam', alpha=1e-5, activation = 'relu', learning_rate ='adaptive', hidden_layer_sizes=(100, 2), random_state=1, max_iter = 200)\r\n",
        "clf = clf.fit(x_train1, y)\r\n",
        "print(classification_report(y, clf.predict(x_train1)))\r\n",
        "sub['covid_19'] = 1 - clf.predict_proba(x_test1)\r\n",
        "sub.to_csv(\"deeplearning2.csv\", index=False)"
      ],
      "execution_count": 14,
      "outputs": [
        {
          "output_type": "stream",
          "text": [
            "              precision    recall  f1-score   support\n",
            "\n",
            "           0       0.91      1.00      0.95      3594\n",
            "           1       0.94      0.14      0.25       406\n",
            "\n",
            "    accuracy                           0.91      4000\n",
            "   macro avg       0.92      0.57      0.60      4000\n",
            "weighted avg       0.91      0.91      0.88      4000\n",
            "\n"
          ],
          "name": "stdout"
        }
      ]
    },
    {
      "cell_type": "code",
      "metadata": {
        "colab": {
          "base_uri": "https://localhost:8080/"
        },
        "id": "TX_YZsfiR3d_",
        "outputId": "c3b92831-b79f-4bfa-deb1-3041bb3e4f4b"
      },
      "source": [
        "# Trying Decision Tree 2\r\n",
        "from sklearn import tree\r\n",
        "clf = tree.DecisionTreeClassifier()\r\n",
        "clf = clf.fit(x_train1, y)\r\n",
        "print(classification_report(y, clf.predict(x_train1)))\r\n",
        "sub['covid_19'] = 1 - clf.predict_proba(x_test1)\r\n",
        "sub.to_csv(\"decisiontree2.csv\", index=False)"
      ],
      "execution_count": 15,
      "outputs": [
        {
          "output_type": "stream",
          "text": [
            "              precision    recall  f1-score   support\n",
            "\n",
            "           0       0.91      1.00      0.96      3594\n",
            "           1       1.00      0.17      0.30       406\n",
            "\n",
            "    accuracy                           0.92      4000\n",
            "   macro avg       0.96      0.59      0.63      4000\n",
            "weighted avg       0.92      0.92      0.89      4000\n",
            "\n"
          ],
          "name": "stdout"
        }
      ]
    },
    {
      "cell_type": "code",
      "metadata": {
        "colab": {
          "base_uri": "https://localhost:8080/"
        },
        "id": "Ub7N-xPNSCo4",
        "outputId": "a4e81bbd-84bf-40ec-d6af-35a13963c088"
      },
      "source": [
        "# Trying Naive Bayes \r\n",
        "from sklearn.naive_bayes import BernoulliNB\r\n",
        "model = BernoulliNB()\r\n",
        "model.fit(x_train1, y)\r\n",
        "print(classification_report(y, model.predict(x_train1)))\r\n",
        "sub['covid_19'] = 1 - model.predict_proba(x_test1)\r\n",
        "sub.to_csv(\"naivebayes2.csv\", index=False)"
      ],
      "execution_count": 16,
      "outputs": [
        {
          "output_type": "stream",
          "text": [
            "              precision    recall  f1-score   support\n",
            "\n",
            "           0       0.91      0.99      0.95      3594\n",
            "           1       0.58      0.09      0.16       406\n",
            "\n",
            "    accuracy                           0.90      4000\n",
            "   macro avg       0.75      0.54      0.55      4000\n",
            "weighted avg       0.87      0.90      0.87      4000\n",
            "\n"
          ],
          "name": "stdout"
        }
      ]
    }
  ]
}